{
 "cells": [
  {
   "cell_type": "code",
   "execution_count": 28,
   "id": "795b3476",
   "metadata": {},
   "outputs": [],
   "source": [
    "import pandas as pd\n",
    "import numpy as np\n",
    "import tensorflow as tf\n",
    "from tensorflow import keras\n",
    "import matplotlib.pyplot as plt"
   ]
  },
  {
   "cell_type": "code",
   "execution_count": 30,
   "id": "fa3934c4",
   "metadata": {},
   "outputs": [],
   "source": [
    "dataset=pd.read_csv(\"ecg.csv\")"
   ]
  },
  {
   "cell_type": "code",
   "execution_count": 31,
   "id": "2552c1c0",
   "metadata": {},
   "outputs": [
    {
     "data": {
      "text/html": [
       "<div>\n",
       "<style scoped>\n",
       "    .dataframe tbody tr th:only-of-type {\n",
       "        vertical-align: middle;\n",
       "    }\n",
       "\n",
       "    .dataframe tbody tr th {\n",
       "        vertical-align: top;\n",
       "    }\n",
       "\n",
       "    .dataframe thead th {\n",
       "        text-align: right;\n",
       "    }\n",
       "</style>\n",
       "<table border=\"1\" class=\"dataframe\">\n",
       "  <thead>\n",
       "    <tr style=\"text-align: right;\">\n",
       "      <th></th>\n",
       "      <th>-0.11252183</th>\n",
       "      <th>-2.8272038</th>\n",
       "      <th>-3.7738969</th>\n",
       "      <th>-4.3497511</th>\n",
       "      <th>-4.376041</th>\n",
       "      <th>-3.4749863</th>\n",
       "      <th>-2.1814082</th>\n",
       "      <th>-1.8182865</th>\n",
       "      <th>-1.2505219</th>\n",
       "      <th>-0.47749208</th>\n",
       "      <th>...</th>\n",
       "      <th>0.79216787</th>\n",
       "      <th>0.93354122</th>\n",
       "      <th>0.79695779</th>\n",
       "      <th>0.57862066</th>\n",
       "      <th>0.2577399</th>\n",
       "      <th>0.22807718</th>\n",
       "      <th>0.12343082</th>\n",
       "      <th>0.92528624</th>\n",
       "      <th>0.19313742</th>\n",
       "      <th>1.0</th>\n",
       "    </tr>\n",
       "  </thead>\n",
       "  <tbody>\n",
       "    <tr>\n",
       "      <th>0</th>\n",
       "      <td>-1.100878</td>\n",
       "      <td>-3.996840</td>\n",
       "      <td>-4.285843</td>\n",
       "      <td>-4.506579</td>\n",
       "      <td>-4.022377</td>\n",
       "      <td>-3.234368</td>\n",
       "      <td>-1.566126</td>\n",
       "      <td>-0.992258</td>\n",
       "      <td>-0.754680</td>\n",
       "      <td>0.042321</td>\n",
       "      <td>...</td>\n",
       "      <td>0.538356</td>\n",
       "      <td>0.656881</td>\n",
       "      <td>0.787490</td>\n",
       "      <td>0.724046</td>\n",
       "      <td>0.555784</td>\n",
       "      <td>0.476333</td>\n",
       "      <td>0.773820</td>\n",
       "      <td>1.119621</td>\n",
       "      <td>-1.436250</td>\n",
       "      <td>1.0</td>\n",
       "    </tr>\n",
       "    <tr>\n",
       "      <th>1</th>\n",
       "      <td>-0.567088</td>\n",
       "      <td>-2.593450</td>\n",
       "      <td>-3.874230</td>\n",
       "      <td>-4.584095</td>\n",
       "      <td>-4.187449</td>\n",
       "      <td>-3.151462</td>\n",
       "      <td>-1.742940</td>\n",
       "      <td>-1.490659</td>\n",
       "      <td>-1.183580</td>\n",
       "      <td>-0.394229</td>\n",
       "      <td>...</td>\n",
       "      <td>0.886073</td>\n",
       "      <td>0.531452</td>\n",
       "      <td>0.311377</td>\n",
       "      <td>-0.021919</td>\n",
       "      <td>-0.713683</td>\n",
       "      <td>-0.532197</td>\n",
       "      <td>0.321097</td>\n",
       "      <td>0.904227</td>\n",
       "      <td>-0.421797</td>\n",
       "      <td>1.0</td>\n",
       "    </tr>\n",
       "    <tr>\n",
       "      <th>2</th>\n",
       "      <td>0.490473</td>\n",
       "      <td>-1.914407</td>\n",
       "      <td>-3.616364</td>\n",
       "      <td>-4.318823</td>\n",
       "      <td>-4.268016</td>\n",
       "      <td>-3.881110</td>\n",
       "      <td>-2.993280</td>\n",
       "      <td>-1.671131</td>\n",
       "      <td>-1.333884</td>\n",
       "      <td>-0.965629</td>\n",
       "      <td>...</td>\n",
       "      <td>0.350816</td>\n",
       "      <td>0.499111</td>\n",
       "      <td>0.600345</td>\n",
       "      <td>0.842069</td>\n",
       "      <td>0.952074</td>\n",
       "      <td>0.990133</td>\n",
       "      <td>1.086798</td>\n",
       "      <td>1.403011</td>\n",
       "      <td>-0.383564</td>\n",
       "      <td>1.0</td>\n",
       "    </tr>\n",
       "    <tr>\n",
       "      <th>3</th>\n",
       "      <td>0.800232</td>\n",
       "      <td>-0.874252</td>\n",
       "      <td>-2.384761</td>\n",
       "      <td>-3.973292</td>\n",
       "      <td>-4.338224</td>\n",
       "      <td>-3.802422</td>\n",
       "      <td>-2.534510</td>\n",
       "      <td>-1.783423</td>\n",
       "      <td>-1.594450</td>\n",
       "      <td>-0.753199</td>\n",
       "      <td>...</td>\n",
       "      <td>1.148884</td>\n",
       "      <td>0.958434</td>\n",
       "      <td>1.059025</td>\n",
       "      <td>1.371682</td>\n",
       "      <td>1.277392</td>\n",
       "      <td>0.960304</td>\n",
       "      <td>0.971020</td>\n",
       "      <td>1.614392</td>\n",
       "      <td>1.421456</td>\n",
       "      <td>1.0</td>\n",
       "    </tr>\n",
       "    <tr>\n",
       "      <th>4</th>\n",
       "      <td>-1.507674</td>\n",
       "      <td>-3.574550</td>\n",
       "      <td>-4.478011</td>\n",
       "      <td>-4.408275</td>\n",
       "      <td>-3.321242</td>\n",
       "      <td>-2.105171</td>\n",
       "      <td>-1.481048</td>\n",
       "      <td>-1.301362</td>\n",
       "      <td>-0.498240</td>\n",
       "      <td>-0.286928</td>\n",
       "      <td>...</td>\n",
       "      <td>1.089068</td>\n",
       "      <td>0.983369</td>\n",
       "      <td>1.014124</td>\n",
       "      <td>0.952629</td>\n",
       "      <td>0.749326</td>\n",
       "      <td>1.007076</td>\n",
       "      <td>1.634990</td>\n",
       "      <td>1.493365</td>\n",
       "      <td>-0.783134</td>\n",
       "      <td>1.0</td>\n",
       "    </tr>\n",
       "    <tr>\n",
       "      <th>...</th>\n",
       "      <td>...</td>\n",
       "      <td>...</td>\n",
       "      <td>...</td>\n",
       "      <td>...</td>\n",
       "      <td>...</td>\n",
       "      <td>...</td>\n",
       "      <td>...</td>\n",
       "      <td>...</td>\n",
       "      <td>...</td>\n",
       "      <td>...</td>\n",
       "      <td>...</td>\n",
       "      <td>...</td>\n",
       "      <td>...</td>\n",
       "      <td>...</td>\n",
       "      <td>...</td>\n",
       "      <td>...</td>\n",
       "      <td>...</td>\n",
       "      <td>...</td>\n",
       "      <td>...</td>\n",
       "      <td>...</td>\n",
       "      <td>...</td>\n",
       "    </tr>\n",
       "    <tr>\n",
       "      <th>4992</th>\n",
       "      <td>0.608558</td>\n",
       "      <td>-0.335651</td>\n",
       "      <td>-0.990948</td>\n",
       "      <td>-1.784153</td>\n",
       "      <td>-2.626145</td>\n",
       "      <td>-2.957065</td>\n",
       "      <td>-2.931897</td>\n",
       "      <td>-2.664816</td>\n",
       "      <td>-2.090137</td>\n",
       "      <td>-1.461841</td>\n",
       "      <td>...</td>\n",
       "      <td>1.757705</td>\n",
       "      <td>2.291923</td>\n",
       "      <td>2.704595</td>\n",
       "      <td>2.451519</td>\n",
       "      <td>2.017396</td>\n",
       "      <td>1.704358</td>\n",
       "      <td>1.688542</td>\n",
       "      <td>1.629593</td>\n",
       "      <td>1.342651</td>\n",
       "      <td>0.0</td>\n",
       "    </tr>\n",
       "    <tr>\n",
       "      <th>4993</th>\n",
       "      <td>-2.060402</td>\n",
       "      <td>-2.860116</td>\n",
       "      <td>-3.405074</td>\n",
       "      <td>-3.748719</td>\n",
       "      <td>-3.513561</td>\n",
       "      <td>-3.006545</td>\n",
       "      <td>-2.234850</td>\n",
       "      <td>-1.593270</td>\n",
       "      <td>-1.075279</td>\n",
       "      <td>-0.976047</td>\n",
       "      <td>...</td>\n",
       "      <td>1.388947</td>\n",
       "      <td>2.079675</td>\n",
       "      <td>2.433375</td>\n",
       "      <td>2.159484</td>\n",
       "      <td>1.819747</td>\n",
       "      <td>1.534767</td>\n",
       "      <td>1.696818</td>\n",
       "      <td>1.483832</td>\n",
       "      <td>1.047612</td>\n",
       "      <td>0.0</td>\n",
       "    </tr>\n",
       "    <tr>\n",
       "      <th>4994</th>\n",
       "      <td>-1.122969</td>\n",
       "      <td>-2.252925</td>\n",
       "      <td>-2.867628</td>\n",
       "      <td>-3.358605</td>\n",
       "      <td>-3.167849</td>\n",
       "      <td>-2.638360</td>\n",
       "      <td>-1.664162</td>\n",
       "      <td>-0.935655</td>\n",
       "      <td>-0.866953</td>\n",
       "      <td>-0.645363</td>\n",
       "      <td>...</td>\n",
       "      <td>-0.472419</td>\n",
       "      <td>-1.310147</td>\n",
       "      <td>-2.029521</td>\n",
       "      <td>-3.221294</td>\n",
       "      <td>-4.176790</td>\n",
       "      <td>-4.009720</td>\n",
       "      <td>-2.874136</td>\n",
       "      <td>-2.008369</td>\n",
       "      <td>-1.808334</td>\n",
       "      <td>0.0</td>\n",
       "    </tr>\n",
       "    <tr>\n",
       "      <th>4995</th>\n",
       "      <td>-0.547705</td>\n",
       "      <td>-1.889545</td>\n",
       "      <td>-2.839779</td>\n",
       "      <td>-3.457912</td>\n",
       "      <td>-3.929149</td>\n",
       "      <td>-3.966026</td>\n",
       "      <td>-3.492560</td>\n",
       "      <td>-2.695270</td>\n",
       "      <td>-1.849691</td>\n",
       "      <td>-1.374321</td>\n",
       "      <td>...</td>\n",
       "      <td>1.258419</td>\n",
       "      <td>1.907530</td>\n",
       "      <td>2.280888</td>\n",
       "      <td>1.895242</td>\n",
       "      <td>1.437702</td>\n",
       "      <td>1.193433</td>\n",
       "      <td>1.261335</td>\n",
       "      <td>1.150449</td>\n",
       "      <td>0.804932</td>\n",
       "      <td>0.0</td>\n",
       "    </tr>\n",
       "    <tr>\n",
       "      <th>4996</th>\n",
       "      <td>-1.351779</td>\n",
       "      <td>-2.209006</td>\n",
       "      <td>-2.520225</td>\n",
       "      <td>-3.061475</td>\n",
       "      <td>-3.065141</td>\n",
       "      <td>-3.030739</td>\n",
       "      <td>-2.622720</td>\n",
       "      <td>-2.044092</td>\n",
       "      <td>-1.295874</td>\n",
       "      <td>-0.733839</td>\n",
       "      <td>...</td>\n",
       "      <td>-1.512234</td>\n",
       "      <td>-2.076075</td>\n",
       "      <td>-2.586042</td>\n",
       "      <td>-3.322799</td>\n",
       "      <td>-3.627311</td>\n",
       "      <td>-3.437038</td>\n",
       "      <td>-2.260023</td>\n",
       "      <td>-1.577823</td>\n",
       "      <td>-0.684531</td>\n",
       "      <td>0.0</td>\n",
       "    </tr>\n",
       "  </tbody>\n",
       "</table>\n",
       "<p>4997 rows × 141 columns</p>\n",
       "</div>"
      ],
      "text/plain": [
       "      -0.11252183  -2.8272038  -3.7738969  -4.3497511  -4.376041  -3.4749863  \\\n",
       "0       -1.100878   -3.996840   -4.285843   -4.506579  -4.022377   -3.234368   \n",
       "1       -0.567088   -2.593450   -3.874230   -4.584095  -4.187449   -3.151462   \n",
       "2        0.490473   -1.914407   -3.616364   -4.318823  -4.268016   -3.881110   \n",
       "3        0.800232   -0.874252   -2.384761   -3.973292  -4.338224   -3.802422   \n",
       "4       -1.507674   -3.574550   -4.478011   -4.408275  -3.321242   -2.105171   \n",
       "...           ...         ...         ...         ...        ...         ...   \n",
       "4992     0.608558   -0.335651   -0.990948   -1.784153  -2.626145   -2.957065   \n",
       "4993    -2.060402   -2.860116   -3.405074   -3.748719  -3.513561   -3.006545   \n",
       "4994    -1.122969   -2.252925   -2.867628   -3.358605  -3.167849   -2.638360   \n",
       "4995    -0.547705   -1.889545   -2.839779   -3.457912  -3.929149   -3.966026   \n",
       "4996    -1.351779   -2.209006   -2.520225   -3.061475  -3.065141   -3.030739   \n",
       "\n",
       "      -2.1814082  -1.8182865  -1.2505219  -0.47749208  ...  0.79216787  \\\n",
       "0      -1.566126   -0.992258   -0.754680     0.042321  ...    0.538356   \n",
       "1      -1.742940   -1.490659   -1.183580    -0.394229  ...    0.886073   \n",
       "2      -2.993280   -1.671131   -1.333884    -0.965629  ...    0.350816   \n",
       "3      -2.534510   -1.783423   -1.594450    -0.753199  ...    1.148884   \n",
       "4      -1.481048   -1.301362   -0.498240    -0.286928  ...    1.089068   \n",
       "...          ...         ...         ...          ...  ...         ...   \n",
       "4992   -2.931897   -2.664816   -2.090137    -1.461841  ...    1.757705   \n",
       "4993   -2.234850   -1.593270   -1.075279    -0.976047  ...    1.388947   \n",
       "4994   -1.664162   -0.935655   -0.866953    -0.645363  ...   -0.472419   \n",
       "4995   -3.492560   -2.695270   -1.849691    -1.374321  ...    1.258419   \n",
       "4996   -2.622720   -2.044092   -1.295874    -0.733839  ...   -1.512234   \n",
       "\n",
       "      0.93354122  0.79695779  0.57862066  0.2577399  0.22807718  0.12343082  \\\n",
       "0       0.656881    0.787490    0.724046   0.555784    0.476333    0.773820   \n",
       "1       0.531452    0.311377   -0.021919  -0.713683   -0.532197    0.321097   \n",
       "2       0.499111    0.600345    0.842069   0.952074    0.990133    1.086798   \n",
       "3       0.958434    1.059025    1.371682   1.277392    0.960304    0.971020   \n",
       "4       0.983369    1.014124    0.952629   0.749326    1.007076    1.634990   \n",
       "...          ...         ...         ...        ...         ...         ...   \n",
       "4992    2.291923    2.704595    2.451519   2.017396    1.704358    1.688542   \n",
       "4993    2.079675    2.433375    2.159484   1.819747    1.534767    1.696818   \n",
       "4994   -1.310147   -2.029521   -3.221294  -4.176790   -4.009720   -2.874136   \n",
       "4995    1.907530    2.280888    1.895242   1.437702    1.193433    1.261335   \n",
       "4996   -2.076075   -2.586042   -3.322799  -3.627311   -3.437038   -2.260023   \n",
       "\n",
       "      0.92528624  0.19313742  1.0  \n",
       "0       1.119621   -1.436250  1.0  \n",
       "1       0.904227   -0.421797  1.0  \n",
       "2       1.403011   -0.383564  1.0  \n",
       "3       1.614392    1.421456  1.0  \n",
       "4       1.493365   -0.783134  1.0  \n",
       "...          ...         ...  ...  \n",
       "4992    1.629593    1.342651  0.0  \n",
       "4993    1.483832    1.047612  0.0  \n",
       "4994   -2.008369   -1.808334  0.0  \n",
       "4995    1.150449    0.804932  0.0  \n",
       "4996   -1.577823   -0.684531  0.0  \n",
       "\n",
       "[4997 rows x 141 columns]"
      ]
     },
     "execution_count": 31,
     "metadata": {},
     "output_type": "execute_result"
    }
   ],
   "source": [
    "dataset"
   ]
  },
  {
   "cell_type": "code",
   "execution_count": 4,
   "id": "cc856e17",
   "metadata": {},
   "outputs": [],
   "source": [
    "from sklearn.preprocessing import StandardScaler\n",
    "scalar=StandardScaler()"
   ]
  },
  {
   "cell_type": "code",
   "execution_count": 32,
   "id": "2772f8c4",
   "metadata": {},
   "outputs": [],
   "source": [
    "x=scalar.fit_transform(dataset.values)"
   ]
  },
  {
   "cell_type": "code",
   "execution_count": 33,
   "id": "76d6e3cc",
   "metadata": {},
   "outputs": [],
   "source": [
    "y=x"
   ]
  },
  {
   "cell_type": "code",
   "execution_count": 34,
   "id": "31ef775a",
   "metadata": {},
   "outputs": [],
   "source": [
    "from sklearn.model_selection import train_test_split\n",
    "x_train,x_test,_,_=train_test_split(x,y,random_state=42,test_size=0.2)"
   ]
  },
  {
   "cell_type": "code",
   "execution_count": 35,
   "id": "ce84fe76",
   "metadata": {},
   "outputs": [],
   "source": [
    "n=x_train.shape[1]"
   ]
  },
  {
   "cell_type": "code",
   "execution_count": 36,
   "id": "e6334c31",
   "metadata": {},
   "outputs": [
    {
     "name": "stdout",
     "output_type": "stream",
     "text": [
      "141\n"
     ]
    }
   ],
   "source": [
    "print(n)"
   ]
  },
  {
   "cell_type": "code",
   "execution_count": 37,
   "id": "3d135ea9",
   "metadata": {},
   "outputs": [],
   "source": [
    "# build the model\n",
    "encoder=keras.models.Sequential([\n",
    "    keras.layers.Input(shape=(n,)),\n",
    "    keras.layers.Dense(32,activation='relu'),\n",
    "    keras.layers.Dense(16,activation='relu')\n",
    "])\n",
    "\n",
    "decoder=keras.models.Sequential([\n",
    "    keras.layers.Input(shape=(16,)),\n",
    "    keras.layers.Dense(32,activation='relu'),\n",
    "    keras.layers.Dense(n,activation='linear')\n",
    "])"
   ]
  },
  {
   "cell_type": "code",
   "execution_count": 38,
   "id": "37cbf882",
   "metadata": {},
   "outputs": [],
   "source": [
    "model=keras.models.Sequential([\n",
    "    encoder,decoder\n",
    "])"
   ]
  },
  {
   "cell_type": "code",
   "execution_count": 39,
   "id": "db75b95d",
   "metadata": {},
   "outputs": [],
   "source": [
    "model.compile(optimizer='adam',loss=tf.keras.losses.MeanSquaredError())"
   ]
  },
  {
   "cell_type": "code",
   "execution_count": 40,
   "id": "1c25da3b",
   "metadata": {},
   "outputs": [
    {
     "name": "stdout",
     "output_type": "stream",
     "text": [
      "Epoch 1/5\n",
      "125/125 [==============================] - 3s 8ms/step - loss: 0.6571 - val_loss: 0.3863\n",
      "Epoch 2/5\n",
      "125/125 [==============================] - 1s 5ms/step - loss: 0.2700 - val_loss: 0.2570\n",
      "Epoch 3/5\n",
      "125/125 [==============================] - 1s 5ms/step - loss: 0.2038 - val_loss: 0.2150\n",
      "Epoch 4/5\n",
      "125/125 [==============================] - 1s 5ms/step - loss: 0.1711 - val_loss: 0.1853\n",
      "Epoch 5/5\n",
      "125/125 [==============================] - 1s 5ms/step - loss: 0.1509 - val_loss: 0.1682\n"
     ]
    },
    {
     "data": {
      "text/plain": [
       "<keras.src.callbacks.History at 0x1985f64b460>"
      ]
     },
     "execution_count": 40,
     "metadata": {},
     "output_type": "execute_result"
    }
   ],
   "source": [
    "model.fit(x_train,x_train,batch_size=32,epochs=5,validation_data=(x_test,x_test),shuffle=True)"
   ]
  },
  {
   "cell_type": "code",
   "execution_count": 41,
   "id": "e58577da",
   "metadata": {},
   "outputs": [
    {
     "name": "stdout",
     "output_type": "stream",
     "text": [
      "32/32 [==============================] - 0s 3ms/step\n"
     ]
    }
   ],
   "source": [
    "pred=model.predict(x_test)"
   ]
  },
  {
   "cell_type": "code",
   "execution_count": 42,
   "id": "1617bde7",
   "metadata": {},
   "outputs": [],
   "source": [
    "mse=np.mean(np.power(x_test-pred,2),axis=1)"
   ]
  },
  {
   "cell_type": "code",
   "execution_count": 43,
   "id": "eadac2b8",
   "metadata": {},
   "outputs": [],
   "source": [
    "threshold=np.arange(0.1,1.0,0.1)\n",
    "\n",
    "for i in threshold:\n",
    "    anamolies=mse>i"
   ]
  },
  {
   "cell_type": "code",
   "execution_count": 44,
   "id": "5ae55805",
   "metadata": {},
   "outputs": [
    {
     "name": "stdout",
     "output_type": "stream",
     "text": [
      "25\n"
     ]
    }
   ],
   "source": [
    "sum_anamolies=np.sum(anamolies)\n",
    "print(sum_anamolies)"
   ]
  },
  {
   "cell_type": "code",
   "execution_count": 45,
   "id": "e51f54c8",
   "metadata": {},
   "outputs": [
    {
     "data": {
      "image/png": "[encoded data removed]",
      "text/plain": [
       "<Figure size 432x288 with 1 Axes>"
      ]
     },
     "metadata": {
      "needs_background": "light"
     },
     "output_type": "display_data"
    }
   ],
   "source": [
    "plt.hist(mse,bins=50,alpha=0.5,color='r')\n",
    "plt.show()"
   ]
  },
  {
   "cell_type": "code",
   "execution_count": 48,
   "id": "c5cb6cac",
   "metadata": {},
   "outputs": [
    {
     "name": "stdout",
     "output_type": "stream",
     "text": [
      "[[975   0]\n",
      " [  0  25]]\n",
      "              precision    recall  f1-score   support\n",
      "\n",
      "       False       1.00      1.00      1.00       975\n",
      "        True       1.00      1.00      1.00        25\n",
      "\n",
      "    accuracy                           1.00      1000\n",
      "   macro avg       1.00      1.00      1.00      1000\n",
      "weighted avg       1.00      1.00      1.00      1000\n",
      "\n"
     ]
    }
   ],
   "source": [
    "from sklearn.metrics import classification_report,confusion_matrix\n",
    "print(confusion_matrix(anamolies,anamolies))\n",
    "print(classification_report(anamolies,anamolies))"
   ]
  },
  {
   "cell_type": "code",
   "execution_count": 50,
   "id": "d9814d11",
   "metadata": {},
   "outputs": [
    {
     "data": {
      "text/plain": [
       "<AxesSubplot:>"
      ]
     },
     "execution_count": 50,
     "metadata": {},
     "output_type": "execute_result"
    },
    {
     "data": {
      "image/png": "[encoded data removed]",
      "text/plain": [
       "<Figure size 432x288 with 2 Axes>"
      ]
     },
     "metadata": {
      "needs_background": "light"
     },
     "output_type": "display_data"
    }
   ],
   "source": [
    "import seaborn as sns\n",
    "sns.heatmap(confusion_matrix(anamolies,anamolies),annot=True)"
   ]
  },
  {
   "cell_type": "code",
   "execution_count": null,
   "id": "ffe981d9",
   "metadata": {},
   "outputs": [],
   "source": []
  }
 ],
 "metadata": {
  "kernelspec": {
   "display_name": "Python 3 (ipykernel)",
   "language": "python",
   "name": "python3"
  },
  "language_info": {
   "codemirror_mode": {
    "name": "ipython",
    "version": 3
   },
   "file_extension": ".py",
   "mimetype": "text/x-python",
   "name": "python",
   "nbconvert_exporter": "python",
   "pygments_lexer": "ipython3",
   "version": "3.9.12"
  }
 },
 "nbformat": 4,
 "nbformat_minor": 5
}
